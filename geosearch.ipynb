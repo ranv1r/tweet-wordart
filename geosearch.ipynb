{
  "cells": [
    {
      "cell_type": "code",
      "execution_count": 2,
      "metadata": {
        "id": "EtnaSlH-wplB"
      },
      "outputs": [],
      "source": [
        "# created on Dec 24, 2020\n",
        "# modified on April 12, 2022\n",
        "# @author:          Bo Zhao\n",
        "# @email:           zhaobo@uw.edu\n",
        "# @website:         https://hgis.uw.edu\n",
        "# @organization:    Department of Geography, University of Washington, Seattle\n",
        "# @description:     Search geo-tagged tweets within the U.S. This script is modified from https://github.com/shawn-terryah/Twitter_Geolocation"
      ]
    },
    {
      "cell_type": "code",
      "execution_count": 3,
      "metadata": {
        "id": "f-bMdKMawxnQ",
        "colab": {
          "base_uri": "https://localhost:8080/"
        },
        "outputId": "473980a6-3861-4693-e69b-3708c09f6a23"
      },
      "outputs": [
        {
          "output_type": "stream",
          "name": "stdout",
          "text": [
            "Mounted at /gdrive\n"
          ]
        }
      ],
      "source": [
        "import tweepy, json, time\n",
        "import pandas as pd\n",
        "from google.colab import files\n",
        "# Create data on to Google Drive\n",
        "from google.colab import drive\n",
        "# Mount your Drive to the Colab VM.\n",
        "drive.mount('/gdrive')"
      ]
    },
    {
      "cell_type": "code",
      "execution_count": 4,
      "metadata": {
        "id": "dEyPts-ZwplE"
      },
      "outputs": [],
      "source": [
        "class StreamListener(tweepy.StreamListener):\n",
        "    \"\"\"tweepy.StreamListener is a class provided by tweepy used to access\n",
        "    the Twitter Streaming API to collect tweets in real-time.\n",
        "    \"\"\"\n",
        "\n",
        "    def __init__(self, time_limit=60, file=\"\"):\n",
        "        \"\"\"class initialization\"\"\"\n",
        "        self.start_time = time.time()\n",
        "        self.limit = time_limit\n",
        "        self.result = []\n",
        "        self.f = file\n",
        "        super(StreamListener, self).__init__()\n",
        "\n",
        "    def on_data(self, data):\n",
        "        \"\"\"This is called when data are streamed in.\"\"\"\n",
        "        if (time.time() - self.start_time) < self.limit:\n",
        "            datajson = json.loads(data)\n",
        "            # print(datajson, \"\\n\")\n",
        "            if 'id' not in datajson.keys():\n",
        "                time.sleep(10)\n",
        "            else:\n",
        "                id = datajson['id']\n",
        "                username = datajson['user']['screen_name']\n",
        "                created_at = datajson['created_at']\n",
        "                text = datajson['text'].strip().replace(\"\\n\", \"\")\n",
        "\n",
        "                # process the geo-tags\n",
        "                if datajson['coordinates'] == None:\n",
        "                    try:\n",
        "                        bbox = datajson['place']['bounding_box']['coordinates'][0]\n",
        "                        lng = (bbox[0][0] + bbox[2][0]) / 2.0\n",
        "                        lat = (bbox[0][1] + bbox[1][1]) / 2.0\n",
        "                    except:\n",
        "                        lat = 0\n",
        "                        lng = 0\n",
        "                else:\n",
        "                    lng = datajson['coordinates']['coordinates'][0]\n",
        "                    lat = datajson['coordinates']['coordinates'][1]\n",
        "\n",
        "                if lat != 0:\n",
        "                    row = {\n",
        "                        'id': id,\n",
        "                        'username': username,\n",
        "                        'created_at': created_at,\n",
        "                        'lng': lng,\n",
        "                        'lat': lat,\n",
        "                        'text': text\n",
        "                    }\n",
        "                    print(row)\n",
        "                    self.result.append(row)\n",
        "                else:\n",
        "                    pass\n",
        "        else:\n",
        "            df = pd.DataFrame(self.result)\n",
        "            df.to_csv(self.f, index=False)\n",
        "            # download the csv to your local computer\n",
        "            files.download(self.f)\n",
        "            print(\"the csv has been downloaded to your local computer. The program has been completed successfully.\")\n",
        "            return False"
      ]
    },
    {
      "cell_type": "code",
      "execution_count": 5,
      "metadata": {
        "id": "5Xzyo_OiwplG",
        "colab": {
          "base_uri": "https://localhost:8080/",
          "height": 419
        },
        "outputId": "9bd8d6f5-0290-4234-9073-7cd3c9173e60"
      },
      "outputs": [
        {
          "output_type": "stream",
          "name": "stdout",
          "text": [
            "{'id': 1533653887604822017, 'username': 'Drew__DeLeon', 'created_at': 'Mon Jun 06 03:35:55 +0000 2022', 'lng': 139.745379, 'lat': 35.652789, 'text': '@elizabethgonzzz For some girls, pussy is all they have to offer because they bring no value to the table. Only sim… https://t.co/7xG5I6cru5'}\n",
            "{'id': 1533654149724016640, 'username': 'naru_is_awake', 'created_at': 'Mon Jun 06 03:36:57 +0000 2022', 'lng': 135.502204, 'lat': 34.7003735, 'text': \"Final fantasy ramen 🍜 Doesn't it look cute with them lil 花 (hana ~ flower in japanese) ? I appreciate it if you… https://t.co/mRp0SzDkIx\"}\n",
            "{'id': 1533654181428752387, 'username': '27314photo', 'created_at': 'Mon Jun 06 03:37:05 +0000 2022', 'lng': 139.69262600000002, 'lat': 35.666851, 'text': 'A test shoot for Stefany at Tokyo Rebels from last month (#digital on the left, #film on the right) https://t.co/J8NaM6gWEf'}\n",
            "{'id': 1533654392754282498, 'username': 'JINandKAI', 'created_at': 'Mon Jun 06 03:37:55 +0000 2022', 'lng': 139.778995, 'lat': 35.686987, 'text': 'Just posted a photo @ Parklet https://t.co/0Ny0VwzhAB'}\n",
            "{'id': 1533654558198870016, 'username': 'TheTokyoDerek', 'created_at': 'Mon Jun 06 03:38:35 +0000 2022', 'lng': 139.75636450000002, 'lat': 35.686884500000005, 'text': 'Firing into a 24-hour fast, just skipped lunch. Bonus: miserable weather in Tokyo ☔️'}\n",
            "{'id': 1533654588032679938, 'username': '0216Osaka', 'created_at': 'Mon Jun 06 03:38:42 +0000 2022', 'lng': 135.45209, 'lat': 34.525774, 'text': \"I'm at greenstyle https://t.co/L4JLrAwkUx\"}\n",
            "{'id': 1533654590847328256, 'username': 'planetbob99', 'created_at': 'Mon Jun 06 03:38:43 +0000 2022', 'lng': 136.86747150000002, 'lat': 35.1655625, 'text': '@itsginnydi @DavidTestrake Think this may have jumped the shark... Bi-erasure is terrible, we should not have to k… https://t.co/zZicluws39'}\n",
            "{'id': 1533654640150974465, 'username': 'nuralyhyon', 'created_at': 'Mon Jun 06 03:38:54 +0000 2022', 'lng': 133.092552, 'lat': 35.177777, 'text': 'Signed https://t.co/NXqrmXz5dH'}\n",
            "{'id': 1533654724129394688, 'username': 'Omni_Hug', 'created_at': 'Mon Jun 06 03:39:14 +0000 2022', 'lng': 139.6565525, 'lat': 35.4267515, 'text': '@ubmeguro My first time to make Hiroshima style, I usually make Kansai style.'}\n",
            "{'id': 1533654872125747200, 'username': 'TheTokyoDerek', 'created_at': 'Mon Jun 06 03:39:50 +0000 2022', 'lng': 139.75636450000002, 'lat': 35.686884500000005, 'text': '@HiromuNagahara @tbaudinette @ScriptingJapan The Tonkatsu/cabbage combo works spectacularly well. Does anyone know where it first started?'}\n",
            "{'id': 1533655139655233537, 'username': 'dbvlgari', 'created_at': 'Mon Jun 06 03:40:53 +0000 2022', 'lng': 139.6060465, 'lat': 35.423801, 'text': '@mizimaza If I be in her place I will wear my own clothes, they dress her terrible 😞 #AyFer #YağmurTanrısevrsin… https://t.co/igaAsXtA1Q'}\n",
            "{'id': 1533655183347322881, 'username': 'nayuminnie0927', 'created_at': 'Mon Jun 06 03:41:04 +0000 2022', 'lng': 135.502204, 'lat': 34.7003735, 'text': '@doge_accept @inevitable360 Ahhhhh sooooo lovely 💗💗💗💗💗💗'}\n",
            "{'id': 1533655243065393152, 'username': 'shotoshortcake', 'created_at': 'Mon Jun 06 03:41:18 +0000 2022', 'lng': 139.71509400000002, 'lat': 35.7291085, 'text': '@crimson_styx Its really yummy!! Has a nice variety of everything. Has unique ice cream flavors too. Nice place to… https://t.co/1Yp1yKcL7d'}\n",
            "{'id': 1533655474301571074, 'username': 'miyukiokamura', 'created_at': 'Mon Jun 06 03:42:13 +0000 2022', 'lng': 139.085175, 'lat': 37.5398475, 'text': '@coldplay love❤️from fujirock https://t.co/43Zea9Ph9P'}\n",
            "{'id': 1533655636181139456, 'username': 'planetbob99', 'created_at': 'Mon Jun 06 03:42:52 +0000 2022', 'lng': 136.86747150000002, 'lat': 35.1655625, 'text': 'Come on UK, be better!'}\n",
            "{'id': 1533655685149622272, 'username': 'nabechan7848', 'created_at': 'Mon Jun 06 03:43:03 +0000 2022', 'lng': 139.8622565, 'lat': 36.262097, 'text': '@eXyA8CfliG49p2F @u_ka0801 @jonishi_rei @kchi_hi1217 (^^)b(^^)b(^^)b(^q^)'}\n",
            "{'id': 1533655714232946690, 'username': 'ColorfulFiction', 'created_at': 'Mon Jun 06 03:43:10 +0000 2022', 'lng': 139.876108, 'lat': 35.691683, 'text': 'Drove 34 kms in the rain only to find the destination office closed. I had mailed the contact on Wednesday that I w… https://t.co/fAHXyrSmfr'}\n",
            "{'id': 1533655969221197825, 'username': 'kt_khaos', 'created_at': 'Mon Jun 06 03:44:11 +0000 2022', 'lng': 135.4508075, 'lat': 34.6601675, 'text': \"It's gonna be wild https://t.co/gj961Xtosm\"}\n",
            "{'id': 1533656037102080000, 'username': 'suddendesu', 'created_at': 'Mon Jun 06 03:44:27 +0000 2022', 'lng': 135.44021049999998, 'lat': 34.5516355, 'text': '@DariusSchmupper @seiryu6198 No hidden cake fighting game like the first one, I take it?'}\n",
            "{'id': 1533656226118385664, 'username': 'kimitaro4', 'created_at': 'Mon Jun 06 03:45:12 +0000 2022', 'lng': 139.75636450000002, 'lat': 35.686884500000005, 'text': '@RoyalCentral Lovely 🥰'}\n",
            "{'id': 1533656307378823168, 'username': 'ColorfulFiction', 'created_at': 'Mon Jun 06 03:45:32 +0000 2022', 'lng': 139.876108, 'lat': 35.691683, 'text': '@arunbothra Paid #reviews have already lost the credibility. Viewers depend only on word of mouth from their close… https://t.co/3rXm4Mvt5t'}\n"
          ]
        },
        {
          "output_type": "display_data",
          "data": {
            "text/plain": [
              "<IPython.core.display.Javascript object>"
            ],
            "application/javascript": [
              "\n",
              "    async function download(id, filename, size) {\n",
              "      if (!google.colab.kernel.accessAllowed) {\n",
              "        return;\n",
              "      }\n",
              "      const div = document.createElement('div');\n",
              "      const label = document.createElement('label');\n",
              "      label.textContent = `Downloading \"${filename}\": `;\n",
              "      div.appendChild(label);\n",
              "      const progress = document.createElement('progress');\n",
              "      progress.max = size;\n",
              "      div.appendChild(progress);\n",
              "      document.body.appendChild(div);\n",
              "\n",
              "      const buffers = [];\n",
              "      let downloaded = 0;\n",
              "\n",
              "      const channel = await google.colab.kernel.comms.open(id);\n",
              "      // Send a message to notify the kernel that we're ready.\n",
              "      channel.send({})\n",
              "\n",
              "      for await (const message of channel.messages) {\n",
              "        // Send a message to notify the kernel that we're ready.\n",
              "        channel.send({})\n",
              "        if (message.buffers) {\n",
              "          for (const buffer of message.buffers) {\n",
              "            buffers.push(buffer);\n",
              "            downloaded += buffer.byteLength;\n",
              "            progress.value = downloaded;\n",
              "          }\n",
              "        }\n",
              "      }\n",
              "      const blob = new Blob(buffers, {type: 'application/binary'});\n",
              "      const a = document.createElement('a');\n",
              "      a.href = window.URL.createObjectURL(blob);\n",
              "      a.download = filename;\n",
              "      div.appendChild(a);\n",
              "      a.click();\n",
              "      div.remove();\n",
              "    }\n",
              "  "
            ]
          },
          "metadata": {}
        },
        {
          "output_type": "display_data",
          "data": {
            "text/plain": [
              "<IPython.core.display.Javascript object>"
            ],
            "application/javascript": [
              "download(\"download_b003963c-d6c3-44c3-bb52-bbd3f69fe9fe\", \"japan_geotweets.csv\", 3869)"
            ]
          },
          "metadata": {}
        },
        {
          "output_type": "stream",
          "name": "stdout",
          "text": [
            "the csv has been downloaded to your local computer. The program has been completed successfully.\n"
          ]
        }
      ],
      "source": [
        "if __name__ == \"__main__\":\n",
        "    # These are provided to you through the Twitter API after you create a account\n",
        "    # register a Twitter App to get the keys and access tokens.\n",
        "    output_file = '/gdrive/My Drive/japan_geotweets.csv'\n",
        "\n",
        "    # Apply for your own Twitter API keys at https://developer.twitter.com/en/apply-for-access\n",
        "    consumer_key = \"adgg7cFtabq2wImcxX4Q9Fum4\"\n",
        "    consumer_secret = \"LVuLTaE4FauWr4L6Gwg5HAmq36G9KjZ8QCkTJjiPyuIrWnDZCm\"\n",
        "    access_token = \"14324013-Ojr4tv9TGbGIx7yRGWpbozUc4AWhkTdvjIHIBbOME\"\n",
        "    access_token_secret = \"B4NR0pssEPvrQIBfum4DNd3q1q4tmUOcJP14xbhVLcVGK\"\n",
        "\n",
        "    myauth = tweepy.OAuthHandler(consumer_key, consumer_secret)\n",
        "    myauth.set_access_token(access_token, access_token_secret)\n",
        "\n",
        "    # LOCATIONS are the longitude, latitude coordinate corners for a box that restricts the\n",
        "    # geographic area from which you will stream tweets. The first two define the southwest\n",
        "    # corner of the box and the second two define the northeast corner of the box.\n",
        "    LOCATIONS = [129.408463169, 31.0295791692, 145.543137242, 45.5514834662]  \n",
        "\n",
        "    stream_listener = StreamListener(time_limit=600, file=output_file)\n",
        "    stream = tweepy.Stream(auth=myauth, listener=stream_listener)\n",
        "    stream.filter(locations=LOCATIONS, languages=['en'], encoding=\"utf-8\")"
      ]
    }
  ],
  "metadata": {
    "colab": {
      "collapsed_sections": [],
      "name": "geosearch.ipynb",
      "provenance": []
    },
    "kernelspec": {
      "display_name": "Python 3",
      "language": "python",
      "name": "python3"
    },
    "language_info": {
      "codemirror_mode": {
        "name": "ipython",
        "version": 3
      },
      "file_extension": ".py",
      "mimetype": "text/x-python",
      "name": "python",
      "nbconvert_exporter": "python",
      "pygments_lexer": "ipython3",
      "version": "3.7.4"
    }
  },
  "nbformat": 4,
  "nbformat_minor": 0
}